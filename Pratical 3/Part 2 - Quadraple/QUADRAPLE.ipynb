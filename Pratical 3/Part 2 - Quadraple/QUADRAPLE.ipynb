{
  "nbformat": 4,
  "nbformat_minor": 0,
  "metadata": {
    "colab": {
      "provenance": []
    },
    "kernelspec": {
      "name": "python3",
      "display_name": "Python 3"
    },
    "language_info": {
      "name": "python"
    }
  },
  "cells": [
    {
      "cell_type": "code",
      "execution_count": 1,
      "metadata": {
        "colab": {
          "base_uri": "https://localhost:8080/"
        },
        "id": "Fg93yNWe-B9H",
        "outputId": "618a3f38-d56e-4c33-b156-dd9227a6b964"
      },
      "outputs": [
        {
          "output_type": "stream",
          "name": "stdout",
          "text": [
            "Enter an expression: C = (a  + b) * (b - d)\n",
            "Result    Operator  Operand1  Operand2  \n",
            "========================================\n",
            "T1        +         a         b         \n",
            "T2        -         b         d         \n",
            "T3        *         T1        T2        \n",
            "C         =         T3                  \n"
          ]
        }
      ],
      "source": [
        "import re\n",
        "\n",
        "class QuadrupleGenerator:\n",
        "    def __init__(self):\n",
        "        self.temp_count = 0\n",
        "        self.quadruples = []\n",
        "\n",
        "    def generate_temp(self):\n",
        "        self.temp_count += 1\n",
        "        return f\"T{self.temp_count}\"\n",
        "\n",
        "    def precedence(self, op):\n",
        "        return {'+': 1, '-': 1, '*': 2, '/': 2}.get(op, 0)\n",
        "\n",
        "    def infix_to_postfix(self, expr):\n",
        "        output, ops = [], []\n",
        "        for token in re.findall(r'\\w+|[+\\-*/=()]', expr):\n",
        "            if token.isalnum(): output.append(token)\n",
        "            elif token == '(' : ops.append(token)\n",
        "            elif token == ')':\n",
        "                while ops[-1] != '(':\n",
        "                    output.append(ops.pop())\n",
        "                ops.pop()\n",
        "            else:\n",
        "                while ops and self.precedence(ops[-1]) >= self.precedence(token):\n",
        "                    output.append(ops.pop())\n",
        "                ops.append(token)\n",
        "        return output + ops[::-1]\n",
        "\n",
        "    def postfix_to_quadruples(self, postfix):\n",
        "        stack = []\n",
        "        for token in postfix:\n",
        "            if token.isalnum(): stack.append(token)\n",
        "            else:\n",
        "                op2, op1 = stack.pop(), stack.pop()\n",
        "                temp = self.generate_temp()\n",
        "                self.quadruples.append((temp, token, op1, op2))\n",
        "                stack.append(temp)\n",
        "        return stack[-1]\n",
        "\n",
        "    def generate_quadruples(self, expr):\n",
        "        target, rhs = map(str.strip, expr.split('='))\n",
        "        self.postfix_to_quadruples(self.infix_to_postfix(rhs))\n",
        "        self.quadruples.append((target, '=', self.quadruples[-1][0], ''))\n",
        "        return self.quadruples\n",
        "\n",
        "if __name__ == \"__main__\":\n",
        "    qg = QuadrupleGenerator()\n",
        "    quads = qg.generate_quadruples(input(\"Enter an expression: \"))\n",
        "    print(f\"{'Result':<10}{'Operator':<10}{'Operand1':<10}{'Operand2':<10}\\n\" + \"=\"*40)\n",
        "    for q in quads: print(f\"{q[0]:<10}{q[1]:<10}{q[2]:<10}{q[3]:<10}\")\n"
      ]
    }
  ]
}